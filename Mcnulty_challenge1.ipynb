{
 "metadata": {
  "name": "",
  "signature": "sha256:e863672fa70548c1df675f8512b9a62897844cddc167f45e0d2817442db5ebd6"
 },
 "nbformat": 3,
 "nbformat_minor": 0,
 "worksheets": [
  {
   "cells": [
    {
     "cell_type": "code",
     "collapsed": false,
     "input": [
      "import pandas as pd\n",
      "import numpy as np\n",
      "import math\n",
      "from sklearn.neighbors import KNeighborsClassifier\n",
      "from sklearn.metrics import accuracy_score\n",
      "from sklearn.learning_curve import learning_curve\n",
      "import matplotlib.pyplot as plt\n",
      "%matplotlib inline\n",
      "#Gaussian Naive Bayes \n",
      "from sklearn.naive_bayes import GaussianNB\n",
      "\n",
      "#SVM (Support Vector Machine) Classifier\n",
      "from sklearn.svm import SVC\n",
      "\n",
      "#Decision Tree\n",
      "from sklearn.tree import DecisionTreeClassifier\n",
      "\n",
      "#Random Forest\n",
      "from sklearn.ensemble import RandomForestClassifier\n",
      "#Cross-Validation\n",
      "from sklearn.cross_validation import cross_val_score"
     ],
     "language": "python",
     "metadata": {},
     "outputs": [],
     "prompt_number": 308
    },
    {
     "cell_type": "code",
     "collapsed": false,
     "input": [
      "#make dataframe from data folder\n",
      "votesdf=pd.io.parsers.read_csv(\"house-votes-84.data\")"
     ],
     "language": "python",
     "metadata": {},
     "outputs": [],
     "prompt_number": 10
    },
    {
     "cell_type": "code",
     "collapsed": false,
     "input": [
      "votesdf.replace(to_replace='y', value=1, inplace=True)\n",
      "votesdf.replace(to_replace='n', value=0, inplace=True)\n"
     ],
     "language": "python",
     "metadata": {},
     "outputs": [],
     "prompt_number": 11
    },
    {
     "cell_type": "code",
     "collapsed": false,
     "input": [
      "#rename columns\n",
      "votesdf.columns = ['party', \n",
      "                 'handicapped-infants', \n",
      "                 'water-project-cost-sharing',\n",
      "                 'adoption-of-the-budget-resolution',\n",
      "                 'physician-fee-freeze',\n",
      "                 'el-salvador-aid',\n",
      "                 'religious-groups-in-schools',\n",
      "                 'anti-satellite-test-ban',\n",
      "                 'aid-to-nicaraguan-contras',\n",
      "                 'mx-missile',\n",
      "                 'immigration',\n",
      "                 'synfuels-corporation-cutback',\n",
      "                 'education-spending',\n",
      "                 'superfund-right-to-sue',\n",
      "                 'crime',\n",
      "                 'duty-free-exports',\n",
      "                 'export-administration-act-south-africa']\n"
     ],
     "language": "python",
     "metadata": {},
     "outputs": [],
     "prompt_number": 55
    },
    {
     "cell_type": "code",
     "collapsed": false,
     "input": [
      "#make a dictionaries of columns and mode of each column\n",
      "replace_dict={}\n",
      "for column in votesdf.columns:\n",
      "    replace_dict[column]=votesdf[column].mode()[0]\n",
      "print replace_dict\n",
      "\n"
     ],
     "language": "python",
     "metadata": {},
     "outputs": [
      {
       "output_type": "stream",
       "stream": "stdout",
       "text": [
        "{'handicapped-infants': 0, 'superfund-right-to-sue': 1, 'education-spending': 0, 'duty-free-exports': 0, 'aid-to-nicaraguan-contras': 1, 'immigration': 1, 'crime': 1, 'el-salvador-aid': 1, 'religious-groups-in-schools': 1, 'mx-missile': 1, 'synfuels-corporation-cutback': 0, 'anti-satellite-test-ban': 1, 'water-project-cost-sharing': 1, 'party': 'democrat', 'export-administration-act-south-africa': 1, 'adoption-of-the-budget-resolution': 1, 'physician-fee-freeze': 0}\n"
       ]
      }
     ],
     "prompt_number": 56
    },
    {
     "cell_type": "code",
     "collapsed": false,
     "input": [
      "#replaced \"?\" with mode of each column\n",
      "votesdf.replace(to_replace='?', value=replace_dict, inplace=True)\n",
      "votesdf.head()"
     ],
     "language": "python",
     "metadata": {},
     "outputs": [
      {
       "html": [
        "<div style=\"max-height:1000px;max-width:1500px;overflow:auto;\">\n",
        "<table border=\"1\" class=\"dataframe\">\n",
        "  <thead>\n",
        "    <tr style=\"text-align: right;\">\n",
        "      <th></th>\n",
        "      <th>party</th>\n",
        "      <th>handicapped-infants</th>\n",
        "      <th>water-project-cost-sharing</th>\n",
        "      <th>adoption-of-the-budget-resolution</th>\n",
        "      <th>physician-fee-freeze</th>\n",
        "      <th>el-salvador-aid</th>\n",
        "      <th>religious-groups-in-schools</th>\n",
        "      <th>anti-satellite-test-ban</th>\n",
        "      <th>aid-to-nicaraguan-contras</th>\n",
        "      <th>mx-missile</th>\n",
        "      <th>immigration</th>\n",
        "      <th>synfuels-corporation-cutback</th>\n",
        "      <th>education-spending</th>\n",
        "      <th>superfund-right-to-sue</th>\n",
        "      <th>crime</th>\n",
        "      <th>duty-free-exports</th>\n",
        "      <th>export-administration-act-south-africa</th>\n",
        "    </tr>\n",
        "  </thead>\n",
        "  <tbody>\n",
        "    <tr>\n",
        "      <th>0</th>\n",
        "      <td> republican</td>\n",
        "      <td> 0</td>\n",
        "      <td> 1</td>\n",
        "      <td> 0</td>\n",
        "      <td> 1</td>\n",
        "      <td> 1</td>\n",
        "      <td> 1</td>\n",
        "      <td> 0</td>\n",
        "      <td> 0</td>\n",
        "      <td> 0</td>\n",
        "      <td> 0</td>\n",
        "      <td> 0</td>\n",
        "      <td> 1</td>\n",
        "      <td> 1</td>\n",
        "      <td> 1</td>\n",
        "      <td> 0</td>\n",
        "      <td> 1</td>\n",
        "    </tr>\n",
        "    <tr>\n",
        "      <th>1</th>\n",
        "      <td>   democrat</td>\n",
        "      <td> 0</td>\n",
        "      <td> 1</td>\n",
        "      <td> 1</td>\n",
        "      <td> 0</td>\n",
        "      <td> 1</td>\n",
        "      <td> 1</td>\n",
        "      <td> 0</td>\n",
        "      <td> 0</td>\n",
        "      <td> 0</td>\n",
        "      <td> 0</td>\n",
        "      <td> 1</td>\n",
        "      <td> 0</td>\n",
        "      <td> 1</td>\n",
        "      <td> 1</td>\n",
        "      <td> 0</td>\n",
        "      <td> 0</td>\n",
        "    </tr>\n",
        "    <tr>\n",
        "      <th>2</th>\n",
        "      <td>   democrat</td>\n",
        "      <td> 0</td>\n",
        "      <td> 1</td>\n",
        "      <td> 1</td>\n",
        "      <td> 0</td>\n",
        "      <td> 1</td>\n",
        "      <td> 1</td>\n",
        "      <td> 0</td>\n",
        "      <td> 0</td>\n",
        "      <td> 0</td>\n",
        "      <td> 0</td>\n",
        "      <td> 1</td>\n",
        "      <td> 0</td>\n",
        "      <td> 1</td>\n",
        "      <td> 0</td>\n",
        "      <td> 0</td>\n",
        "      <td> 1</td>\n",
        "    </tr>\n",
        "    <tr>\n",
        "      <th>3</th>\n",
        "      <td>   democrat</td>\n",
        "      <td> 1</td>\n",
        "      <td> 1</td>\n",
        "      <td> 1</td>\n",
        "      <td> 0</td>\n",
        "      <td> 1</td>\n",
        "      <td> 1</td>\n",
        "      <td> 0</td>\n",
        "      <td> 0</td>\n",
        "      <td> 0</td>\n",
        "      <td> 0</td>\n",
        "      <td> 1</td>\n",
        "      <td> 0</td>\n",
        "      <td> 1</td>\n",
        "      <td> 1</td>\n",
        "      <td> 1</td>\n",
        "      <td> 1</td>\n",
        "    </tr>\n",
        "    <tr>\n",
        "      <th>4</th>\n",
        "      <td>   democrat</td>\n",
        "      <td> 0</td>\n",
        "      <td> 1</td>\n",
        "      <td> 1</td>\n",
        "      <td> 0</td>\n",
        "      <td> 1</td>\n",
        "      <td> 1</td>\n",
        "      <td> 0</td>\n",
        "      <td> 0</td>\n",
        "      <td> 0</td>\n",
        "      <td> 0</td>\n",
        "      <td> 0</td>\n",
        "      <td> 0</td>\n",
        "      <td> 1</td>\n",
        "      <td> 1</td>\n",
        "      <td> 1</td>\n",
        "      <td> 1</td>\n",
        "    </tr>\n",
        "  </tbody>\n",
        "</table>\n",
        "</div>"
       ],
       "metadata": {},
       "output_type": "pyout",
       "prompt_number": 81,
       "text": [
        "        party  handicapped-infants  water-project-cost-sharing  \\\n",
        "0  republican                    0                           1   \n",
        "1    democrat                    0                           1   \n",
        "2    democrat                    0                           1   \n",
        "3    democrat                    1                           1   \n",
        "4    democrat                    0                           1   \n",
        "\n",
        "   adoption-of-the-budget-resolution  physician-fee-freeze  el-salvador-aid  \\\n",
        "0                                  0                     1                1   \n",
        "1                                  1                     0                1   \n",
        "2                                  1                     0                1   \n",
        "3                                  1                     0                1   \n",
        "4                                  1                     0                1   \n",
        "\n",
        "   religious-groups-in-schools  anti-satellite-test-ban  \\\n",
        "0                            1                        0   \n",
        "1                            1                        0   \n",
        "2                            1                        0   \n",
        "3                            1                        0   \n",
        "4                            1                        0   \n",
        "\n",
        "   aid-to-nicaraguan-contras  mx-missile  immigration  \\\n",
        "0                          0           0            0   \n",
        "1                          0           0            0   \n",
        "2                          0           0            0   \n",
        "3                          0           0            0   \n",
        "4                          0           0            0   \n",
        "\n",
        "   synfuels-corporation-cutback  education-spending  superfund-right-to-sue  \\\n",
        "0                             0                   1                       1   \n",
        "1                             1                   0                       1   \n",
        "2                             1                   0                       1   \n",
        "3                             1                   0                       1   \n",
        "4                             0                   0                       1   \n",
        "\n",
        "   crime  duty-free-exports  export-administration-act-south-africa  \n",
        "0      1                  0                                       1  \n",
        "1      1                  0                                       0  \n",
        "2      0                  0                                       1  \n",
        "3      1                  1                                       1  \n",
        "4      1                  1                                       1  "
       ]
      }
     ],
     "prompt_number": 81
    },
    {
     "cell_type": "code",
     "collapsed": true,
     "input": [
      "#Challenge 2\n",
      "#Split the data into a test and training set. But this time, use this function: \n",
      "from sklearn.cross_validation import train_test_split\n"
     ],
     "language": "python",
     "metadata": {},
     "outputs": [
      {
       "output_type": "stream",
       "stream": "stderr",
       "text": [
        "/usr/local/lib/python2.7/site-packages/scipy/spatial/__init__.py:90: RuntimeWarning: numpy.dtype size changed, may indicate binary incompatibility\n",
        "  from .ckdtree import *\n",
        "/usr/local/lib/python2.7/site-packages/scipy/spatial/__init__.py:90: RuntimeWarning: numpy.ufunc size changed, may indicate binary incompatibility\n",
        "  from .ckdtree import *\n",
        "/usr/local/lib/python2.7/site-packages/scipy/spatial/__init__.py:91: RuntimeWarning: numpy.dtype size changed, may indicate binary incompatibility\n",
        "  from .qhull import *\n",
        "/usr/local/lib/python2.7/site-packages/scipy/spatial/__init__.py:91: RuntimeWarning: numpy.ufunc size changed, may indicate binary incompatibility\n",
        "  from .qhull import *\n",
        "/usr/local/lib/python2.7/site-packages/scipy/stats/_continuous_distns.py:24: RuntimeWarning: numpy.dtype size changed, may indicate binary incompatibility\n",
        "  from . import vonmises_cython\n"
       ]
      },
      {
       "output_type": "stream",
       "stream": "stderr",
       "text": [
        "/usr/local/lib/python2.7/site-packages/scipy/stats/_continuous_distns.py:24: RuntimeWarning: numpy.ufunc size changed, may indicate binary incompatibility\n",
        "  from . import vonmises_cython\n",
        "/usr/local/lib/python2.7/site-packages/scipy/stats/stats.py:188: RuntimeWarning: numpy.dtype size changed, may indicate binary incompatibility\n",
        "  from ._rank import rankdata, tiecorrect\n"
       ]
      },
      {
       "output_type": "stream",
       "stream": "stderr",
       "text": [
        "/usr/local/lib/python2.7/site-packages/scipy/stats/stats.py:188: RuntimeWarning: numpy.ufunc size changed, may indicate binary incompatibility\n",
        "  from ._rank import rankdata, tiecorrect\n"
       ]
      }
     ],
     "prompt_number": 59
    },
    {
     "cell_type": "code",
     "collapsed": false,
     "input": [
      "votesdftrain, votesdftest= train_test_split(votesdf)"
     ],
     "language": "python",
     "metadata": {},
     "outputs": [],
     "prompt_number": 60
    },
    {
     "cell_type": "code",
     "collapsed": false,
     "input": [
      "#Challenge 3\n",
      "\n",
      "#Using scikit.learn's KNN algorithm, train a model that predicts the party (republican/democrat) \n",
      "from sklearn.neighbors import KNeighborsClassifier\n",
      "\n",
      "#Try it with a lot of different k values (number of neighbors), from 1 to 20, \n",
      "#and on the test set calculate the accuracy (number of correct predictions / number of all predictions) for each k\n",
      "\n",
      "#You can use this to calculate accuracy: \n",
      "from sklearn.metrics import accuracy_score\n",
      "\n",
      "#Which k value gives the highest accuracy?"
     ],
     "language": "python",
     "metadata": {},
     "outputs": [],
     "prompt_number": 65
    },
    {
     "cell_type": "code",
     "collapsed": false,
     "input": [
      "#ran model\n",
      "X=votesdftrain[:,1::]\n",
      "Y=votesdftrain[:,0]\n",
      "from sklearn.neighbors import KNeighborsClassifier\n",
      "neigh = KNeighborsClassifier(n_neighbors=3)\n",
      "neigh.fit(X, Y) \n"
     ],
     "language": "python",
     "metadata": {},
     "outputs": [
      {
       "metadata": {},
       "output_type": "pyout",
       "prompt_number": 85,
       "text": [
        "KNeighborsClassifier(algorithm='auto', leaf_size=30, metric='minkowski',\n",
        "           n_neighbors=3, p=2, weights='uniform')"
       ]
      }
     ],
     "prompt_number": 85
    },
    {
     "cell_type": "code",
     "collapsed": false,
     "input": [
      "neigh.predict(votesdftest[1,1::])"
     ],
     "language": "python",
     "metadata": {},
     "outputs": [
      {
       "metadata": {},
       "output_type": "pyout",
       "prompt_number": 87,
       "text": [
        "array(['democrat'], dtype=object)"
       ]
      }
     ],
     "prompt_number": 87
    },
    {
     "cell_type": "code",
     "collapsed": false,
     "input": [
      "from sklearn.metrics import accuracy_score"
     ],
     "language": "python",
     "metadata": {},
     "outputs": [],
     "prompt_number": 100
    },
    {
     "cell_type": "code",
     "collapsed": false,
     "input": [
      "y_true=votesdftest[:,0]\n",
      "y_test=neigh.predict(votesdftest[:,1::])\n",
      "accuracy_score(y_true,y_test)\n"
     ],
     "language": "python",
     "metadata": {},
     "outputs": [
      {
       "metadata": {},
       "output_type": "pyout",
       "prompt_number": 108,
       "text": [
        "0.91743119266055051"
       ]
      }
     ],
     "prompt_number": 108
    },
    {
     "cell_type": "code",
     "collapsed": false,
     "input": [
      "def calc_accuracy_score_dif_k(list_of_ks):\n",
      "    X=votesdftrain[:,1::]\n",
      "    Y=votesdftrain[:,0]\n",
      "    y_true=votesdftest[:,0]\n",
      "    accuracy_list=[]\n",
      "    for i in list_of_ks:\n",
      "        neigh = KNeighborsClassifier(n_neighbors=i)\n",
      "        neigh.fit(X, Y) \n",
      "        y_test=neigh.predict(votesdftest[:,1::])\n",
      "        accuracy_list.append(accuracy_score(y_true,y_test))\n",
      "    return accuracy_list"
     ],
     "language": "python",
     "metadata": {},
     "outputs": [],
     "prompt_number": 113
    },
    {
     "cell_type": "code",
     "collapsed": true,
     "input": [
      "calc_accuracy_score_dif_k(range(1,20))"
     ],
     "language": "python",
     "metadata": {},
     "outputs": [
      {
       "metadata": {},
       "output_type": "pyout",
       "prompt_number": 119,
       "text": [
        "[0.91743119266055051,\n",
        " 0.93577981651376152,\n",
        " 0.91743119266055051,\n",
        " 0.92660550458715596,\n",
        " 0.92660550458715596,\n",
        " 0.91743119266055051,\n",
        " 0.92660550458715596,\n",
        " 0.90825688073394495,\n",
        " 0.90825688073394495,\n",
        " 0.91743119266055051,\n",
        " 0.91743119266055051,\n",
        " 0.91743119266055051,\n",
        " 0.91743119266055051,\n",
        " 0.91743119266055051,\n",
        " 0.91743119266055051,\n",
        " 0.91743119266055051,\n",
        " 0.91743119266055051,\n",
        " 0.91743119266055051,\n",
        " 0.91743119266055051]"
       ]
      }
     ],
     "prompt_number": 119
    },
    {
     "cell_type": "code",
     "collapsed": false,
     "input": [
      "plt.plot(range(1,20),calc_accuracy_score_dif_k(range(1,20)), 'r')\n",
      "plt.xlabel(\"k\")\n",
      "plt.ylabel(\"accuracy score\")\n",
      "plt.title(\"K-Nearest Neighbors\")"
     ],
     "language": "python",
     "metadata": {},
     "outputs": [
      {
       "metadata": {},
       "output_type": "pyout",
       "prompt_number": 156,
       "text": [
        "<matplotlib.text.Text at 0x111a85350>"
       ]
      },
      {
       "metadata": {},
       "output_type": "display_data",
       "png": "[encoded data removed]",
       "text": [
        "<matplotlib.figure.Figure at 0x11c3f9650>"
       ]
      }
     ],
     "prompt_number": 156
    },
    {
     "cell_type": "code",
     "collapsed": false,
     "input": [
      "from sklearn import linear_model, datasets"
     ],
     "language": "python",
     "metadata": {},
     "outputs": [
      {
       "output_type": "stream",
       "stream": "stderr",
       "text": [
        "/usr/local/lib/python2.7/site-packages/scipy/interpolate/interpolate.py:28: RuntimeWarning: numpy.dtype size changed, may indicate binary incompatibility\n",
        "  from . import _ppoly\n",
        "/usr/local/lib/python2.7/site-packages/scipy/interpolate/interpolate.py:28: RuntimeWarning: numpy.ufunc size changed, may indicate binary incompatibility\n",
        "  from . import _ppoly\n"
       ]
      }
     ],
     "prompt_number": 128
    },
    {
     "cell_type": "code",
     "collapsed": false,
     "input": [
      "#fit logistic regression model\n",
      "logreg = linear_model.LogisticRegression()\n",
      "logreg.fit(X, Y)\n",
      "y_pred=logreg.predict(votesdftest[:,1::])\n",
      "#print y_test\n",
      "logistic_accuracy=accuracy_score(y_true,y_pred)"
     ],
     "language": "python",
     "metadata": {},
     "outputs": [],
     "prompt_number": 157
    },
    {
     "cell_type": "code",
     "collapsed": false,
     "input": [
      "#get how many num rep and num dem then plot\n",
      "num_repub=0\n",
      "num_dem=0\n",
      "for i in votesdf.party:\n",
      "    if i == 'democrat':\n",
      "        num_dem+=1\n",
      "    else:\n",
      "        num_repub+=1\n",
      "print num_repub,num_dem\n",
      "plt.bar((0,1),[num_dem,num_repub])\n",
      "plt.xticks((0.5,1.5), ('democrat', 'republican'))"
     ],
     "language": "python",
     "metadata": {},
     "outputs": [
      {
       "metadata": {},
       "output_type": "pyout",
       "prompt_number": 155,
       "text": [
        "([<matplotlib.axis.XTick at 0x11c215850>,\n",
        "  <matplotlib.axis.XTick at 0x11546ae10>],\n",
        " <a list of 2 Text xticklabel objects>)"
       ]
      },
      {
       "metadata": {},
       "output_type": "display_data",
       "png": "[encoded data removed]",
       "text": [
        "<matplotlib.figure.Figure at 0x11c202390>"
       ]
      }
     ],
     "prompt_number": 155
    },
    {
     "cell_type": "code",
     "collapsed": false,
     "input": [
      "#fig,ax=plt.subplots()\n",
      "plt.plot(range(1,20),[logistic_accuracy]*19, 'b', label='logistic')\n",
      "plt.plot(range(1,20),calc_accuracy_score_dif_k(range(1,20)), 'r', label='K-nearest')\n",
      "plt.legend(loc='best')\n",
      "plt.ylim([.905,.95])"
     ],
     "language": "python",
     "metadata": {},
     "outputs": [
      {
       "metadata": {},
       "output_type": "pyout",
       "prompt_number": 177,
       "text": [
        "(0.905, 0.95)"
       ]
      },
      {
       "metadata": {},
       "output_type": "display_data",
       "png": "[encoded data removed]",
       "text": [
        "<matplotlib.figure.Figure at 0x11d113b90>"
       ]
      }
     ],
     "prompt_number": 177
    },
    {
     "cell_type": "markdown",
     "metadata": {},
     "source": [
      "Challenge 7\n",
      "\n",
      "Plot a learning curve for the logistic regression model. But instead of going through the painstaking steps of doing it yourself, use this function:\n",
      "from sklearn.learning_curve import learning_curve\n",
      "\n",
      "This will give you the m, training errors and testing errors. All you need to do is plot them. You don't even need to give it separate training/test sets. It will do crossvalidation all by itself. Easy, isn't it? : )\n",
      "\n",
      "Remember, since it does cross-validation, it doesn't have a single training error or test error per m value. Instead, it has one for each fold (separate partition) of the cross validation. A good idea is to take the mean of these errors from different folds. This gives you a meaningful single number per m. What I mean is that doing something like: train_cv_err = np.mean(train_err,axis=1) test_cv_err = np.mean(ts_err,axis=1)\n",
      "\n",
      "before plotting m vs train_cv_err and m vs test_cv_err, where train_err and test_err are the vectors returned by the learning curve function. The np.mean(...., axis=1) means take the mean along axis 1 (axis 1 is the columns axis-- for each row, you have a bunch of columns, each corresponding to a cross validation fold, you are averaging these columns for each row).\n",
      "\n",
      "Draw the learning curve for KNN with the best k value as well."
     ]
    },
    {
     "cell_type": "code",
     "collapsed": false,
     "input": [
      "from sklearn.learning_curve import learning_curve"
     ],
     "language": "python",
     "metadata": {},
     "outputs": [],
     "prompt_number": 178
    },
    {
     "cell_type": "code",
     "collapsed": false,
     "input": [
      " train_sizes, train_scores, test_scores = learning_curve(linear_model.LogisticRegression(), votesdf.loc[:,'handicapped-infants':], votesdf.party)"
     ],
     "language": "python",
     "metadata": {},
     "outputs": [],
     "prompt_number": 188
    },
    {
     "cell_type": "code",
     "collapsed": false,
     "input": [
      "train_cv_err =np.mean(train_scores,axis=1)\n",
      "test_cv_err = np.mean(test_scores,axis=1)\n",
      "print train_cv_err\n",
      "print test_cv_err\n",
      "print train_sizes\n",
      "plt.plot(train_sizes, train_cv_err, label=\"training\")\n",
      "plt.plot(train_sizes,test_cv_err, label='test')\n",
      "plt.legend()\n",
      "plt.xlabel(\"Sample size\")\n",
      "plt.ylabel(\"Accuracy\")"
     ],
     "language": "python",
     "metadata": {},
     "outputs": [
      {
       "output_type": "stream",
       "stream": "stdout",
       "text": [
        "[ 0.97619048  0.98207885  0.97679325  0.97309417  0.96885813]\n",
        "[ 0.92158365  0.92618135  0.94233716  0.95617816  0.96079183]\n",
        "[ 28  93 158 223 289]\n"
       ]
      },
      {
       "metadata": {},
       "output_type": "pyout",
       "prompt_number": 202,
       "text": [
        "<matplotlib.text.Text at 0x11e0ad650>"
       ]
      },
      {
       "metadata": {},
       "output_type": "display_data",
       "png": "[encoded data removed]",
       "text": [
        "<matplotlib.figure.Figure at 0x11e00c110>"
       ]
      }
     ],
     "prompt_number": 202
    },
    {
     "cell_type": "code",
     "collapsed": false,
     "input": [
      "train_sizes, train_scores, test_scores = learning_curve(KNeighborsClassifier(n_neighbors=2), votesdf.loc[:,'handicapped-infants':], votesdf.party)\n",
      "train_cv_err =np.mean(train_scores,axis=1)\n",
      "test_cv_err = np.mean(test_scores,axis=1)\n",
      "plt.plot(train_sizes, train_cv_err, label=\"training\")\n",
      "plt.plot(train_sizes,test_cv_err, label='test')\n",
      "plt.legend()\n",
      "plt.xlabel(\"Sample size\")\n",
      "plt.ylabel(\"Accuracy\")"
     ],
     "language": "python",
     "metadata": {},
     "outputs": [
      {
       "metadata": {},
       "output_type": "pyout",
       "prompt_number": 205,
       "text": [
        "<matplotlib.text.Text at 0x11e4e7210>"
       ]
      },
      {
       "metadata": {},
       "output_type": "display_data",
       "png": "[encoded data removed]",
       "text": [
        "<matplotlib.figure.Figure at 0x11e4cc190>"
       ]
      }
     ],
     "prompt_number": 205
    },
    {
     "cell_type": "markdown",
     "metadata": {},
     "source": [
      "Challenge 8\n",
      "\n",
      "This is a preview of many other classification algorithms that we will go over. Scikit.learn has the same interface for all of these, so you can use them exactly the same way as you did LogisticRegression and KNeighborsClassifier. Use each of these to classify your data and print the test accuracy of each:"
     ]
    },
    {
     "cell_type": "code",
     "collapsed": false,
     "input": [
      "def get_predict_accuracy(classifier):\n",
      "    X=votesdftrain[:,1::]\n",
      "    Y=votesdftrain[:,0]\n",
      "    y_true=votesdftest[:,0]\n",
      "    clf=classifier.fit(X, Y)\n",
      "    y_test=clf.predict(votesdftest[:,1::])\n",
      "    return accuracy_score(y_true,y_test)\n",
      "    "
     ],
     "language": "python",
     "metadata": {},
     "outputs": [],
     "prompt_number": 207
    },
    {
     "cell_type": "code",
     "collapsed": false,
     "input": [
      "#Gaussian Naive Bayes \n",
      "from sklearn.naive_bayes import GaussianNB\n",
      "\n",
      "#SVM (Support Vector Machine) Classifier\n",
      "from sklearn.svm import SVC\n",
      "\n",
      "#Decision Tree\n",
      "from sklearn.tree import DecisionTreeClassifier\n",
      "\n",
      "#Random Forest\n",
      "from sklearn.ensemble import RandomForestClassifier"
     ],
     "language": "python",
     "metadata": {},
     "outputs": [],
     "prompt_number": 209
    },
    {
     "cell_type": "code",
     "collapsed": false,
     "input": [
      "print \"Accuracy score for Naive Bayes: \" + str(get_predict_accuracy(GaussianNB()) )\n",
      "print \"Accuracy score for (Support Vector Machine) Classifier:\" +str(get_predict_accuracy(SVC()))\n",
      "print \"Accuracy score for Decision Tree: \" + str(get_predict_accuracy(DecisionTreeClassifier()))\n",
      "print \"Accuracy score for Random Forest: \" + str(get_predict_accuracy(RandomForestClassifier()))\n"
     ],
     "language": "python",
     "metadata": {},
     "outputs": [
      {
       "output_type": "stream",
       "stream": "stdout",
       "text": [
        "Accuracy score for Naive Bayes: 0.926605504587\n",
        "Accuracy score for (Support Vector Machine) Classifier:0.94495412844\n",
        "Accuracy score for Decision Tree: 0.917431192661\n",
        "Accuracy score for Random Forest: 0.926605504587\n"
       ]
      }
     ],
     "prompt_number": 220
    },
    {
     "cell_type": "heading",
     "level": 1,
     "metadata": {},
     "source": [
      "Challenge 9\n",
      "\n",
      "There is actually a way to do cross validation quickly to get your accuracy results for an algorithm, without separating training and test yourself:\n",
      "from sklearn.cross_validation import cross_val_score\n",
      "\n",
      "Just like the learning_curve function, this takes a classifier object, X and Y. Returns accuracy (or whatever score you prefer by using the scoring keyword argument). Of course, it will return a score for each cross validation fold, so to get the generalized accuracy, you need to take the mean of what it returns.\n",
      "\n",
      "Use this function to calculate the cross validation score of each of the classifiers you tried before."
     ]
    },
    {
     "cell_type": "code",
     "collapsed": false,
     "input": [
      "from sklearn.cross_validation import cross_val_score"
     ],
     "language": "python",
     "metadata": {},
     "outputs": [],
     "prompt_number": 222
    },
    {
     "cell_type": "code",
     "collapsed": false,
     "input": [
      "clf=SVC()\n",
      "X=votesdf.loc[:,'handicapped-infants':]\n",
      "Y=votesdf.party\n",
      "scores = cross_val_score(clf, X, Y, cv=5)\n",
      "meanscore=np.mean(scores)\n",
      "print meanscore"
     ],
     "language": "python",
     "metadata": {},
     "outputs": [
      {
       "output_type": "stream",
       "stream": "stdout",
       "text": [
        "0.956131078224\n"
       ]
      }
     ],
     "prompt_number": 227
    },
    {
     "cell_type": "code",
     "collapsed": false,
     "input": [
      "def get_cross_val_accuracy(model):\n",
      "    X=votesdf.loc[:,'handicapped-infants':]\n",
      "    Y=votesdf.party\n",
      "    scores = cross_val_score(model, X, Y, cv=5)\n",
      "    meanscore=np.mean(scores)\n",
      "    return meanscore"
     ],
     "language": "python",
     "metadata": {},
     "outputs": [],
     "prompt_number": 228
    },
    {
     "cell_type": "code",
     "collapsed": false,
     "input": [
      "print \"Accuracy score for Naive Bayes: \" + str(get_cross_val_accuracy(GaussianNB()))\n",
      "print \"Accuracy score for (Support Vector Machine) Classifier:\" +str(get_cross_val_accuracy(SVC()))\n",
      "print \"Accuracy score for Decision Tree: \" + str(get_cross_val_accuracy(DecisionTreeClassifier()))\n",
      "print \"Accuracy score for Random Forest: \" + str(get_cross_val_accuracy(RandomForestClassifier()))"
     ],
     "language": "python",
     "metadata": {},
     "outputs": [
      {
       "output_type": "stream",
       "stream": "stdout",
       "text": [
        "Accuracy score for Naive Bayes: 0.921670190275\n",
        "Accuracy score for (Support Vector Machine) Classifier:0.956131078224\n",
        "Accuracy score for Decision Tree: 0.946881606765\n",
        "Accuracy score for Random Forest: 0.949048625793"
       ]
      },
      {
       "output_type": "stream",
       "stream": "stdout",
       "text": [
        "\n"
       ]
      }
     ],
     "prompt_number": 232
    },
    {
     "cell_type": "markdown",
     "metadata": {},
     "source": [
      "Challenge 10\n",
      "\n",
      "Instead of 'democrat' or 'republican', can you predict the vote of a representative based on their other votes?\n",
      "\n",
      "Reload the data from scratch. Convert y-->1, n-->0. Choose one vote. Build a classifier (logistic regression or KNN), that uses the other votes (do not use the party as a feature) to predict if the vote will be 1 or 0.\n",
      "\n",
      "Convert each ? to the mode of the column (if a senator has not voted, make their vote 1 if most others voted 1, make it 0 if most others voted 0).\n",
      "\n",
      "Calculate the cross validation accuracy of your classifier for predicting how each representative will vote on the issue."
     ]
    },
    {
     "cell_type": "code",
     "collapsed": false,
     "input": [
      "X=votesdf.loc[:,votesdf.columns[2]:]\n",
      "Y=votesdf[votesdf.columns[1]]\n",
      "scores = cross_val_score(KNeighborsClassifier(n_neighbors=2), X, Y, cv=5)\n",
      "meanscore=np.mean(scores)\n",
      "print meanscore"
     ],
     "language": "python",
     "metadata": {},
     "outputs": [
      {
       "output_type": "stream",
       "stream": "stdout",
       "text": [
        "0.658773784355\n"
       ]
      }
     ],
     "prompt_number": 247
    },
    {
     "cell_type": "markdown",
     "metadata": {},
     "source": [
      "Challenge 12\n",
      "\n",
      "Now you are a classification master. The representative votes dataset only had 0s and 1s. Let's just swiftly tackle the breast cancer surgery data we talked about in class.\n",
      "\n",
      "Get it from here1.\n",
      "What is the average and standard deviation of the age of all of the patients? What is the average and standard deviation of the age of those patients that survived 5 or more years after surgery?\n",
      "What is the average and standard deviation of the age of those patients who survived fewer than 5 years after surgery?\n",
      "Plot a histogram of the ages side by side with a histogram of the number of axillary nodes.\n",
      "What is the earliest year of surgery in this dataset?\n",
      "What is the most recent year of surgery?\n",
      "\n",
      "Use logistic regression to predict survival after 5 years. How well does your model do? What are the coefficients of logistic regression? Which features affect the outcome how?\n",
      "\n",
      "Draw the learning curve for logistic regression in this case."
     ]
    },
    {
     "cell_type": "code",
     "collapsed": false,
     "input": [
      "breastcancerdf=pd.io.parsers.read_csv('haberman.data', header=None)\n",
      "breastcancerdf.head()\n",
      "breastcancerdf.columns=['age','year_of_operation','num_nodes','survival']\n"
     ],
     "language": "python",
     "metadata": {},
     "outputs": [],
     "prompt_number": 258
    },
    {
     "cell_type": "code",
     "collapsed": false,
     "input": [
      "#What is the average and standard deviation of the age of all of the patients?\n",
      "print breastcancerdf.mean().age\n",
      "print breastcancerdf.std().age\n",
      "#What is the average and standard deviation of the age of those patients that survived 5 or more years after surgery?\n",
      "print breastcancerdf.groupby('survival').mean().age\n",
      "print breastcancerdf.groupby('survival').var().age\n",
      "\n"
     ],
     "language": "python",
     "metadata": {},
     "outputs": [
      {
       "output_type": "stream",
       "stream": "stdout",
       "text": [
        "52.4575163399\n",
        "10.8034523493\n",
        "survival\n",
        "1           52.017778\n",
        "2           53.679012\n",
        "Name: age, dtype: float64\n",
        "survival\n",
        "1           121.267540\n",
        "2           103.370679\n",
        "Name: age, dtype: float64\n"
       ]
      }
     ],
     "prompt_number": 274
    },
    {
     "cell_type": "code",
     "collapsed": false,
     "input": [
      "fig, ax= plt.subplots(1,2)\n",
      "ax[0].hist(breastcancerdf.age)\n",
      "ax[0].set_title(\"Distribution of ages\")\n",
      "ax[1].hist(breastcancerdf.num_nodes, color='g')\n",
      "ax[1].set_title(\"distribution of nodes\")"
     ],
     "language": "python",
     "metadata": {},
     "outputs": [
      {
       "metadata": {},
       "output_type": "pyout",
       "prompt_number": 288,
       "text": [
        "<matplotlib.text.Text at 0x11f68c910>"
       ]
      },
      {
       "metadata": {},
       "output_type": "display_data",
       "png": "[encoded data removed]",
       "text": [
        "<matplotlib.figure.Figure at 0x11ed8dd90>"
       ]
      }
     ],
     "prompt_number": 288
    },
    {
     "cell_type": "code",
     "collapsed": false,
     "input": [
      "print breastcancerdf.min().year_of_operation\n",
      "print breastcancerdf.max().year_of_operation\n",
      "print breastcancerdf.year_of_operation.max()"
     ],
     "language": "python",
     "metadata": {},
     "outputs": [
      {
       "output_type": "stream",
       "stream": "stdout",
       "text": [
        "58\n",
        "69\n",
        "69\n"
       ]
      }
     ],
     "prompt_number": 297
    },
    {
     "cell_type": "markdown",
     "metadata": {},
     "source": [
      "Use logistic regression to predict survival after 5 years. How well does your model do? What are the coefficients of logistic regression? Which features affect the outcome how?\n",
      "\n",
      "Draw the learning curve for logistic regression in this case."
     ]
    },
    {
     "cell_type": "code",
     "collapsed": false,
     "input": [
      "X=breastcancerdf[breastcancerdf.columns[:-1]]\n",
      "Y=breastcancerdf[breastcancerdf.columns[-1]]\n",
      "logreg = linear_model.LogisticRegression()\n",
      "logreg.fit(X, Y)\n",
      "print logreg.score(X,Y)\n",
      "print logreg.coef_\n",
      "#logreg.predict(X)"
     ],
     "language": "python",
     "metadata": {},
     "outputs": [
      {
       "output_type": "stream",
       "stream": "stdout",
       "text": [
        "0.748366013072\n",
        "[[ 0.01854689 -0.0345458   0.08812314]]\n"
       ]
      }
     ],
     "prompt_number": 306
    },
    {
     "cell_type": "code",
     "collapsed": false,
     "input": [
      "#for every year .018, year of opp:-.0345, num_nodes:-.0345, \n",
      "print \"for every additional year odds are multiplied by:\" + str(math.exp(logreg.coef_[0][0]))\n",
      "print \"for every year that the operation is done odds are multiplied:\" + str(math.exp(logreg.coef_[0][1]))\n",
      "print \"for every additional node a patient has the odds are multiplied:\" + str(math.exp(logreg.coef_[0][2]))"
     ],
     "language": "python",
     "metadata": {},
     "outputs": [
      {
       "output_type": "stream",
       "stream": "stdout",
       "text": [
        "for every additional year odds are multiplied by:1.01871995094\n",
        "for every year that the operation is done odds are multiplied:0.966044095799\n",
        "for every additional node a patient has the odds are multiplied:1.09212259824\n"
       ]
      }
     ],
     "prompt_number": 319
    },
    {
     "cell_type": "code",
     "collapsed": false,
     "input": [
      "for i in list(logreg.coef_[0]):\n",
      "    print math.exp(i)"
     ],
     "language": "python",
     "metadata": {},
     "outputs": [
      {
       "output_type": "stream",
       "stream": "stdout",
       "text": [
        "1.01871995094\n",
        "0.966044095799\n",
        "1.09212259824\n"
       ]
      }
     ],
     "prompt_number": 323
    },
    {
     "cell_type": "code",
     "collapsed": false,
     "input": [
      "train_sizes, train_scores, test_scores = learning_curve(linear_model.LogisticRegression(), X,Y)\n",
      "train_cv_err =np.mean(train_scores,axis=1)\n",
      "test_cv_err = np.mean(test_scores,axis=1)\n",
      "plt.plot(train_sizes, train_cv_err, label=\"training\")\n",
      "plt.plot(train_sizes,test_cv_err, label='test')\n",
      "plt.legend()\n",
      "plt.xlabel(\"Sample size\")\n",
      "plt.ylabel(\"Accuracy\")"
     ],
     "language": "python",
     "metadata": {},
     "outputs": [
      {
       "metadata": {},
       "output_type": "pyout",
       "prompt_number": 307,
       "text": [
        "<matplotlib.text.Text at 0x11f9211d0>"
       ]
      },
      {
       "metadata": {},
       "output_type": "display_data",
       "png": "[encoded data removed]",
       "text": [
        "<matplotlib.figure.Figure at 0x11f558cd0>"
       ]
      }
     ],
     "prompt_number": 307
    },
    {
     "cell_type": "code",
     "collapsed": false,
     "input": [],
     "language": "python",
     "metadata": {},
     "outputs": [
      {
       "metadata": {},
       "output_type": "pyout",
       "prompt_number": 311,
       "text": [
        "2.718281828459045"
       ]
      }
     ],
     "prompt_number": 311
    }
   ],
   "metadata": {}
  }
 ]
}